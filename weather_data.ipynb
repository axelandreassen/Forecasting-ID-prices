{
 "cells": [
  {
   "cell_type": "markdown",
   "metadata": {},
   "source": [
    "# Create a weather dataframe that captures external factors"
   ]
  },
  {
   "cell_type": "markdown",
   "metadata": {},
   "source": [
    "## Imports"
   ]
  },
  {
   "cell_type": "code",
   "execution_count": 1,
   "metadata": {},
   "outputs": [],
   "source": [
    "import pandas as pd\n",
    "import numpy as np\n",
    "import matplotlib.pyplot as plt\n",
    "\n",
    "import openmeteo_requests\n",
    "import requests_cache\n",
    "from retry_requests import retry\n"
   ]
  },
  {
   "cell_type": "code",
   "execution_count": null,
   "metadata": {},
   "outputs": [
    {
     "name": "stdout",
     "output_type": "stream",
     "text": [
      "<openmeteo_sdk.WeatherApiResponse.WeatherApiResponse object at 0x0000026C22C6EA10>\n"
     ]
    },
    {
     "data": {
      "text/plain": [
       "'\\nresponse = responses[0]\\nprint(f\"Coordinates {response.Latitude()}°N {response.Longitude()}°E\")\\nprint(f\"Elevation {response.Elevation()} m asl\")\\nprint(f\"Timezone {response.Timezone()}{response.TimezoneAbbreviation()}\")\\nprint(f\"Timezone difference to GMT+0 {response.UtcOffsetSeconds()} s\")\\n\\n\\t\\t\\t\\t\\t\\t\\t# Process hourly data. The order of variables needs to be the same as requested.\\nhourly = response.Hourly()\\nhourly_temperature_2m = hourly.Variables(0).ValuesAsNumpy()\\n\\nhourly_data = {\"date\": pd.date_range(\\n\\tstart = pd.to_datetime(hourly.Time(), unit = \"s\", utc = True),\\n\\tend = pd.to_datetime(hourly.TimeEnd(), unit = \"s\", utc = True),\\n\\tfreq = pd.Timedelta(seconds = hourly.Interval()),\\n\\tinclusive = \"left\"\\n)}\\n\\nhourly_data[\"temperature_2m\"] = hourly_temperature_2m\\n\\nhourly_dataframe = pd.DataFrame(data = hourly_data)\\nprint(hourly_dataframe)\\n'"
      ]
     },
     "execution_count": 12,
     "metadata": {},
     "output_type": "execute_result"
    }
   ],
   "source": [
    "# Setup the Open-Meteo API client with cache and retry on error\n",
    "cache_session = requests_cache.CachedSession('.cache', expire_after = -1)\n",
    "retry_session = retry(cache_session, retries = 5, backoff_factor = 0.2)\n",
    "openmeteo = openmeteo_requests.Client(session = retry_session)\n",
    "\n",
    "# Make sure all required weather variables are listed here\n",
    "# The order of variables in hourly or daily is important to assign them correctly below\n",
    "url = \"https://archive-api.open-meteo.com/v1/archive\"\n",
    "params = {\n",
    "\t\"latitude\": [63.43, 62.47, 62.74, 64.47, 62.57],\n",
    "\t\"longitude\": [10.39, 6.15, 7.16, 11.49, 11.38],\n",
    "\t\"start_date\": \"2024-01-01\",\n",
    "\t\"end_date\": \"2024-12-31\",\n",
    "\t\"hourly\": \"temperature_2m\",\n",
    "\t\"timezone\": \"GMT\"\n",
    "}\n",
    "responses = openmeteo.weather_api(url, params=params)\n",
    "# Process first location. Add a for-loop for multiple locations or weather models\n",
    "response = responses[0]\n",
    "print(f\"Coordinates {response.Latitude()}°N {response.Longitude()}°E\")\n",
    "print(f\"Elevation {response.Elevation()} m asl\")\n",
    "print(f\"Timezone {response.Timezone()}{response.TimezoneAbbreviation()}\")\n",
    "print(f\"Timezone difference to GMT+0 {response.UtcOffsetSeconds()} s\")\n",
    "\n",
    "\t\t\t\t\t\t\t# Process hourly data. The order of variables needs to be the same as requested.\n",
    "hourly = response.Hourly()\n",
    "hourly_temperature_2m = hourly.Variables(0).ValuesAsNumpy()\n",
    "\n",
    "hourly_data = {\"date\": pd.date_range(\n",
    "\tstart = pd.to_datetime(hourly.Time(), unit = \"s\", utc = True),\n",
    "\tend = pd.to_datetime(hourly.TimeEnd(), unit = \"s\", utc = True),\n",
    "\tfreq = pd.Timedelta(seconds = hourly.Interval()),\n",
    "\tinclusive = \"left\"\n",
    ")}\n",
    "\n",
    "hourly_data[\"temperature_2m\"] = hourly_temperature_2m\n",
    "\n",
    "hourly_dataframe = pd.DataFrame(data = hourly_data)\n",
    "print(hourly_dataframe)\n"
   ]
  },
  {
   "cell_type": "code",
   "execution_count": null,
   "metadata": {},
   "outputs": [
    {
     "name": "stdout",
     "output_type": "stream",
     "text": [
      "None\n"
     ]
    },
    {
     "ename": "KeyError",
     "evalue": "None",
     "output_type": "error",
     "traceback": [
      "\u001b[31m---------------------------------------------------------------------------\u001b[39m",
      "\u001b[31mKeyError\u001b[39m                                  Traceback (most recent call last)",
      "\u001b[36mCell\u001b[39m\u001b[36m \u001b[39m\u001b[32mIn[35]\u001b[39m\u001b[32m, line 49\u001b[39m\n\u001b[32m     47\u001b[39m \u001b[38;5;28mprint\u001b[39m(location_key)\n\u001b[32m     48\u001b[39m \u001b[38;5;66;03m#location_name = location_names.get(location_key, f\"temp_{lat:.2f}N_{lon:.2f}E\")\u001b[39;00m\n\u001b[32m---> \u001b[39m\u001b[32m49\u001b[39m location_name = \u001b[43mlocation_names\u001b[49m\u001b[43m[\u001b[49m\u001b[43mlocation_key\u001b[49m\u001b[43m]\u001b[49m\n\u001b[32m     51\u001b[39m \u001b[38;5;66;03m# Get temperature data\u001b[39;00m\n\u001b[32m     52\u001b[39m hourly = response.Hourly()\n",
      "\u001b[31mKeyError\u001b[39m: None"
     ]
    }
   ],
   "source": [
    "# Setup the Open-Meteo API client with cache and retry on error\n",
    "cache_session = requests_cache.CachedSession('.cache', expire_after = -1)\n",
    "retry_session = retry(cache_session, retries = 5, backoff_factor = 0.2)\n",
    "openmeteo = openmeteo_requests.Client(session = retry_session)\n",
    "\n",
    "# Define location names\n",
    "location_names = {\n",
    "    (63.43, 10.39): \"Trondheim\", # Largest city in central Norway\n",
    "    (62.47, 6.15): \"Alesund\", # Major coastal city in the western part of NO3\n",
    "    (62.74, 7.16): \"Molde\", # Another significant city in the region\n",
    "    (64.47, 11.49): \"Namsos\", # Near the northern border of NO3\n",
    "    (62.57, 11.38): \"Røros\" # Eastern part of N03, different climate characteristics\n",
    "}\n",
    "\n",
    "# Make sure all required weather variables are listed here\n",
    "url = \"https://archive-api.open-meteo.com/v1/archive\"\n",
    "params = {\n",
    "    \"latitude\": [63.43, 62.47, 62.74, 64.47, 62.57],\n",
    "    \"longitude\": [10.39, 6.15, 7.16, 11.49, 11.38],\n",
    "    \"start_date\": \"2024-01-01\",\n",
    "    \"end_date\": \"2024-12-31\",\n",
    "    \"hourly\": \"temperature_2m\",\n",
    "    \"timezone\": \"GMT\"\n",
    "}\n",
    "responses = openmeteo.weather_api(url, params=params)\n",
    "\n",
    "# Create a base dataframe with the date column using the first response\n",
    "hourly = responses[0].Hourly()\n",
    "hourly_data = {\"date\": pd.date_range(\n",
    "    start = pd.to_datetime(hourly.Time(), unit = \"s\", utc = True),\n",
    "    end = pd.to_datetime(hourly.TimeEnd(), unit = \"s\", utc = True),\n",
    "    freq = pd.Timedelta(seconds = hourly.Interval()),\n",
    "    inclusive = \"left\"\n",
    ")}\n",
    "\n",
    "# Create the main dataframe with the date column\n",
    "combined_df = pd.DataFrame(data = hourly_data)\n",
    "\n",
    "# Process each location and add its temperature as a new column\n",
    "for i, response in enumerate(responses):\n",
    "    # Get location information\n",
    "    lat = response.Latitude()\n",
    "    lon = response.Longitude()\n",
    "    \n",
    "    # Use the location name from our mapping\n",
    "    location_key = (lat, lon)\n",
    "    print(location_key)\n",
    "    #location_name = location_names.get(location_key, f\"temp_{lat:.2f}N_{lon:.2f}E\")\n",
    "    location_name = location_names[location_key]\n",
    "    \n",
    "    # Get temperature data\n",
    "    hourly = response.Hourly()\n",
    "    hourly_temperature_2m = hourly.Variables(0).ValuesAsNumpy()\n",
    "    \n",
    "    # Add to the combined dataframe\n",
    "    combined_df[location_name] = hourly_temperature_2m"
   ]
  },
  {
   "cell_type": "code",
   "execution_count": 24,
   "metadata": {},
   "outputs": [
    {
     "data": {
      "text/html": [
       "<div>\n",
       "<style scoped>\n",
       "    .dataframe tbody tr th:only-of-type {\n",
       "        vertical-align: middle;\n",
       "    }\n",
       "\n",
       "    .dataframe tbody tr th {\n",
       "        vertical-align: top;\n",
       "    }\n",
       "\n",
       "    .dataframe thead th {\n",
       "        text-align: right;\n",
       "    }\n",
       "</style>\n",
       "<table border=\"1\" class=\"dataframe\">\n",
       "  <thead>\n",
       "    <tr style=\"text-align: right;\">\n",
       "      <th></th>\n",
       "      <th>date</th>\n",
       "      <th>temp_63.44N_10.37E</th>\n",
       "      <th>temp_62.46N_6.36E</th>\n",
       "      <th>temp_62.74N_7.12E</th>\n",
       "      <th>temp_64.50N_11.53E</th>\n",
       "      <th>temp_62.60N_11.65E</th>\n",
       "    </tr>\n",
       "  </thead>\n",
       "  <tbody>\n",
       "    <tr>\n",
       "      <th>5256</th>\n",
       "      <td>2024-08-07 00:00:00+00:00</td>\n",
       "      <td>20.2185</td>\n",
       "      <td>16.3265</td>\n",
       "      <td>16.351</td>\n",
       "      <td>18.835499</td>\n",
       "      <td>13.53</td>\n",
       "    </tr>\n",
       "  </tbody>\n",
       "</table>\n",
       "</div>"
      ],
      "text/plain": [
       "                          date  temp_63.44N_10.37E  temp_62.46N_6.36E  \\\n",
       "5256 2024-08-07 00:00:00+00:00             20.2185            16.3265   \n",
       "\n",
       "      temp_62.74N_7.12E  temp_64.50N_11.53E  temp_62.60N_11.65E  \n",
       "5256             16.351           18.835499               13.53  "
      ]
     },
     "execution_count": 24,
     "metadata": {},
     "output_type": "execute_result"
    }
   ],
   "source": [
    "combined_df[combined_df['date'] == '2024-08-07 00:00:00+00:00']"
   ]
  },
  {
   "cell_type": "code",
   "execution_count": 25,
   "metadata": {},
   "outputs": [],
   "source": [
    "# Define location names\n",
    "location_names = {\n",
    "    (63.43, 10.39): \"Trondheim\", # Largest city in central Norway\n",
    "    (62.47, 6.15): \"Alesund\", # Major coastal city in the western part of NO3\n",
    "    (62.74, 7.16): \"Molde\", # Another significant city in the region\n",
    "    (64.47, 11.49): \"Namsos\", # Near the northern border of NO3\n",
    "    (62.57, 11.38): \"Røros\" # Eastern part of N03, different climate characteristics\n",
    "}"
   ]
  },
  {
   "cell_type": "code",
   "execution_count": 30,
   "metadata": {},
   "outputs": [],
   "source": [
    "city = location_names[(63.43, 10.39)]"
   ]
  },
  {
   "cell_type": "code",
   "execution_count": 31,
   "metadata": {},
   "outputs": [
    {
     "data": {
      "text/plain": [
       "'Trondheim'"
      ]
     },
     "execution_count": 31,
     "metadata": {},
     "output_type": "execute_result"
    }
   ],
   "source": [
    "city"
   ]
  },
  {
   "cell_type": "code",
   "execution_count": null,
   "metadata": {},
   "outputs": [],
   "source": []
  }
 ],
 "metadata": {
  "kernelspec": {
   "display_name": "myenv",
   "language": "python",
   "name": "python3"
  },
  "language_info": {
   "codemirror_mode": {
    "name": "ipython",
    "version": 3
   },
   "file_extension": ".py",
   "mimetype": "text/x-python",
   "name": "python",
   "nbconvert_exporter": "python",
   "pygments_lexer": "ipython3",
   "version": "3.12.3"
  }
 },
 "nbformat": 4,
 "nbformat_minor": 2
}
