{
 "cells": [
  {
   "cell_type": "markdown",
   "metadata": {},
   "source": [
    "## Model 2\n",
    "We have one row per delivery hour where our target is the best price that occurs later"
   ]
  },
  {
   "cell_type": "markdown",
   "metadata": {},
   "source": [
    "## Imports"
   ]
  },
  {
   "cell_type": "code",
   "execution_count": 2,
   "metadata": {},
   "outputs": [],
   "source": [
    "import pandas as pd\n",
    "import numpy as np\n",
    "import ast\n",
    "import pytz\n",
    "import re\n",
    "import matplotlib.pyplot as plt\n",
    "import xgboost as xgb \n",
    "from xgboost import XGBClassifier\n",
    "from xgboost import XGBRegressor\n",
    "from sklearn.multioutput import MultiOutputClassifier\n",
    "from sklearn.model_selection import train_test_split\n",
    "from sklearn.metrics import mean_squared_error, mean_absolute_error\n",
    "from sklearn.preprocessing import MinMaxScaler\n",
    "from sklearn.metrics import precision_score, recall_score, f1_score, accuracy_score, confusion_matrix, classification_report\n",
    "\n",
    "import warnings\n",
    "warnings.filterwarnings(\"ignore\")"
   ]
  },
  {
   "cell_type": "markdown",
   "metadata": {},
   "source": [
    "## Read file"
   ]
  },
  {
   "cell_type": "code",
   "execution_count": 23,
   "metadata": {},
   "outputs": [],
   "source": [
    "df = pd.read_parquet('Data/formatted_orderbook.parquet')"
   ]
  },
  {
   "cell_type": "code",
   "execution_count": 5,
   "metadata": {},
   "outputs": [
    {
     "data": {
      "text/plain": [
       "Index(['contractId', 'contractName', 'dlvryStart', 'dlvryEnd', 'dlvryAreaId',\n",
       "       'marketId', 'area', 'recorded', 'time', 'orderId_bid', 'orderId_ask',\n",
       "       'orderPrice_bid', 'orderPrice_ask', 'orderQty_bid', 'orderQty_ask',\n",
       "       'DA_price', 'Delivery Start (UTC)', 'Delivery End (UTC)', 'dlvryMonth',\n",
       "       'dlvryDay', 'dlvryHour', 'dlvryWeekday', 'timeMonth', 'timeDay',\n",
       "       'timeHour', 'timeWeekday', 'timeMinute', 'orderPrice_bid_best',\n",
       "       'orderQty_bid_best', 'orderPrice_ask_best', 'orderQty_ask_best',\n",
       "       'exists_bid', 'exists_ask', 'best_far_bid', 'best_far_ask',\n",
       "       'better_bid_later', 'better_ask_later', 'future_best_bid',\n",
       "       'future_best_ask'],\n",
       "      dtype='object')"
      ]
     },
     "execution_count": 5,
     "metadata": {},
     "output_type": "execute_result"
    }
   ],
   "source": [
    "df.columns"
   ]
  },
  {
   "cell_type": "markdown",
   "metadata": {},
   "source": [
    "## Formatting"
   ]
  },
  {
   "cell_type": "code",
   "execution_count": 22,
   "metadata": {},
   "outputs": [],
   "source": [
    "def onlyKeepTheRowThatIsSixHoursBeforeDelivery(df):\n",
    "    # First make a copy to avoid modifying the original dataframe\n",
    "    filtered_df = df.copy()\n",
    "    result = pd.DataFrame()\n",
    "    for dlvry_time, group in filtered_df.groupby('dlvryStart'):\n",
    "        # Calculate the time that is six hours before delivery\n",
    "        target_time = dlvry_time- pd.Timedelta(hours=6)\n",
    "        row = filtered_df[(filtered_df['time'] == target_time) & (filtered_df['dlvryStart'] == dlvry_time)]\n",
    "        result = pd.concat([result, row]) \n",
    "\n",
    "    return result"
   ]
  },
  {
   "cell_type": "code",
   "execution_count": 20,
   "metadata": {},
   "outputs": [],
   "source": [
    "df = onlyKeepTheRowThatIsSixHoursBeforeDelivery(df)"
   ]
  },
  {
   "cell_type": "code",
   "execution_count": 21,
   "metadata": {},
   "outputs": [
    {
     "data": {
      "text/html": [
       "<div>\n",
       "<style scoped>\n",
       "    .dataframe tbody tr th:only-of-type {\n",
       "        vertical-align: middle;\n",
       "    }\n",
       "\n",
       "    .dataframe tbody tr th {\n",
       "        vertical-align: top;\n",
       "    }\n",
       "\n",
       "    .dataframe thead th {\n",
       "        text-align: right;\n",
       "    }\n",
       "</style>\n",
       "<table border=\"1\" class=\"dataframe\">\n",
       "  <thead>\n",
       "    <tr style=\"text-align: right;\">\n",
       "      <th></th>\n",
       "    </tr>\n",
       "  </thead>\n",
       "  <tbody>\n",
       "  </tbody>\n",
       "</table>\n",
       "</div>"
      ],
      "text/plain": [
       "Empty DataFrame\n",
       "Columns: []\n",
       "Index: []"
      ]
     },
     "execution_count": 21,
     "metadata": {},
     "output_type": "execute_result"
    }
   ],
   "source": [
    "df.head()"
   ]
  },
  {
   "cell_type": "code",
   "execution_count": null,
   "metadata": {},
   "outputs": [],
   "source": []
  }
 ],
 "metadata": {
  "kernelspec": {
   "display_name": "myenv",
   "language": "python",
   "name": "python3"
  },
  "language_info": {
   "codemirror_mode": {
    "name": "ipython",
    "version": 3
   },
   "file_extension": ".py",
   "mimetype": "text/x-python",
   "name": "python",
   "nbconvert_exporter": "python",
   "pygments_lexer": "ipython3",
   "version": "3.12.3"
  }
 },
 "nbformat": 4,
 "nbformat_minor": 2
}
